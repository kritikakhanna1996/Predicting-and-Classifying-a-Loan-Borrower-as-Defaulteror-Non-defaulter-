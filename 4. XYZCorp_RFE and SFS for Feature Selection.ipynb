{
  "nbformat": 4,
  "nbformat_minor": 0,
  "metadata": {
    "colab": {
      "name": "5. RFE (1).ipynb",
      "provenance": [],
      "collapsed_sections": [
        "LSoHLSJ-mlsf",
        "UILO0fEumENs",
        "576qrqeDjPck",
        "XVn5Nm00i5V9",
        "QOW-iCZ-ig4j",
        "SU0dEKoekEA4"
      ]
    },
    "kernelspec": {
      "name": "python3",
      "display_name": "Python 3"
    },
    "language_info": {
      "name": "python"
    }
  },
  "cells": [
    {
      "cell_type": "code",
      "metadata": {
        "id": "g0fm7SFxwHhu"
      },
      "source": [
        "# import 'Pandas' \n",
        "import pandas as pd \n",
        "\n",
        "# import 'Numpy' \n",
        "import numpy as np\n",
        "\n",
        "# import subpackage of Matplotlib\n",
        "import matplotlib.pyplot as plt\n",
        "\n",
        "# import 'Seaborn' \n",
        "import seaborn as sns\n",
        "\n",
        "# to suppress warnings \n",
        "from warnings import filterwarnings\n",
        "filterwarnings('ignore')\n",
        "\n",
        "# display all columns of the dataframe\n",
        "pd.options.display.max_columns = None\n",
        "\n",
        "# display all rows of the dataframe\n",
        "pd.options.display.max_rows = None\n",
        " \n",
        "# to display the float values upto 6 decimal places     \n",
        "pd.options.display.float_format = '{:.6f}'.format\n",
        "\n",
        "# import train-test split \n",
        "from sklearn.model_selection import train_test_split\n",
        "\n",
        "# import various functions from statsmodels\n",
        "import statsmodels\n",
        "import statsmodels.api as sm\n",
        "import statsmodels.stats.api as sms\n",
        "from statsmodels.graphics.gofplots import qqplot\n",
        "\n",
        "# import 'stats'\n",
        "from scipy import stats\n",
        "\n",
        "# 'metrics' from sklearn is used for evaluating the model performance\n",
        "from sklearn.metrics import mean_squared_error\n",
        "\n",
        "# import functions to perform feature selection\n",
        "from mlxtend.feature_selection import SequentialFeatureSelector as sfs\n",
        "from sklearn.feature_selection import RFE\n",
        "\n",
        "# import function to perform linear regression\n",
        "from sklearn.linear_model import LinearRegression\n",
        "\n",
        "# import functions to perform cross validation\n",
        "from sklearn.model_selection import LeaveOneOut\n",
        "from sklearn.model_selection import cross_val_score\n",
        "from sklearn.model_selection import KFold"
      ],
      "execution_count": null,
      "outputs": []
    },
    {
      "cell_type": "code",
      "metadata": {
        "id": "xkvDO11rwPYc"
      },
      "source": [
        "# import train-test,cross validation,gridsearch cv\n",
        "from sklearn.model_selection import train_test_split\n",
        "from sklearn.model_selection import cross_val_score\n",
        "from sklearn.model_selection import KFold\n",
        "from sklearn.model_selection import StratifiedKFold\n",
        "from sklearn.model_selection import RepeatedStratifiedKFold\n",
        "from sklearn.model_selection import GridSearchCV\n",
        "\n",
        "# importing classification models\n",
        "from sklearn.linear_model import LogisticRegression\n",
        "from sklearn.naive_bayes import GaussianNB\n",
        "from sklearn.neighbors import KNeighborsClassifier\n",
        "from sklearn.tree import DecisionTreeClassifier\n",
        "from sklearn.ensemble import RandomForestClassifier\n",
        "from sklearn.ensemble import AdaBoostClassifier\n",
        "from sklearn.ensemble import GradientBoostingClassifier\n",
        "from sklearn.ensemble import StackingClassifier\n",
        "from sklearn.pipeline import Pipeline"
      ],
      "execution_count": null,
      "outputs": []
    },
    {
      "cell_type": "code",
      "metadata": {
        "colab": {
          "base_uri": "https://localhost:8080/"
        },
        "id": "lMTin4ElwlGQ",
        "outputId": "98537341-7fc4-4f3c-8522-ae41dade33bd"
      },
      "source": [
        "from google.colab import drive\n",
        "\n",
        "drive.mount('/content/drive')"
      ],
      "execution_count": null,
      "outputs": [
        {
          "output_type": "stream",
          "name": "stdout",
          "text": [
            "Mounted at /content/drive\n"
          ]
        }
      ]
    },
    {
      "cell_type": "code",
      "metadata": {
        "colab": {
          "base_uri": "https://localhost:8080/",
          "height": 260
        },
        "id": "s4Tbk67txVjQ",
        "outputId": "3eb47e1a-83af-4a67-dbc3-fe953608b836"
      },
      "source": [
        "path='/content/drive/MyDrive/df_final1/train_rf.csv'\n",
        "\n",
        "train=pd.read_csv(path)\n",
        "train.drop('Unnamed: 0',axis=1,inplace=True)\n",
        "train.head()"
      ],
      "execution_count": null,
      "outputs": [
        {
          "output_type": "execute_result",
          "data": {
            "text/html": [
              "<div>\n",
              "<style scoped>\n",
              "    .dataframe tbody tr th:only-of-type {\n",
              "        vertical-align: middle;\n",
              "    }\n",
              "\n",
              "    .dataframe tbody tr th {\n",
              "        vertical-align: top;\n",
              "    }\n",
              "\n",
              "    .dataframe thead th {\n",
              "        text-align: right;\n",
              "    }\n",
              "</style>\n",
              "<table border=\"1\" class=\"dataframe\">\n",
              "  <thead>\n",
              "    <tr style=\"text-align: right;\">\n",
              "      <th></th>\n",
              "      <th>loan_amnt</th>\n",
              "      <th>int_rate</th>\n",
              "      <th>annual_inc</th>\n",
              "      <th>dti</th>\n",
              "      <th>delinq_2yrs</th>\n",
              "      <th>inq_last_6mths</th>\n",
              "      <th>open_acc</th>\n",
              "      <th>pub_rec</th>\n",
              "      <th>revol_bal</th>\n",
              "      <th>revol_util</th>\n",
              "      <th>total_acc</th>\n",
              "      <th>tot_coll_amt</th>\n",
              "      <th>tot_cur_bal</th>\n",
              "      <th>total_rev_hi_lim</th>\n",
              "      <th>default_ind</th>\n",
              "      <th>term_ 60 months</th>\n",
              "      <th>home_ownership_MORTGAGE</th>\n",
              "      <th>home_ownership_NONE</th>\n",
              "      <th>home_ownership_OTHER</th>\n",
              "      <th>home_ownership_OWN</th>\n",
              "      <th>home_ownership_RENT</th>\n",
              "      <th>verification_status_Source Verified</th>\n",
              "      <th>verification_status_Verified</th>\n",
              "      <th>initial_list_status_w</th>\n",
              "      <th>grade</th>\n",
              "      <th>sub_grade</th>\n",
              "      <th>emp_length</th>\n",
              "    </tr>\n",
              "  </thead>\n",
              "  <tbody>\n",
              "    <tr>\n",
              "      <th>0</th>\n",
              "      <td>17325</td>\n",
              "      <td>12.120000</td>\n",
              "      <td>40000.000000</td>\n",
              "      <td>31.410000</td>\n",
              "      <td>0</td>\n",
              "      <td>0</td>\n",
              "      <td>10</td>\n",
              "      <td>0</td>\n",
              "      <td>32236</td>\n",
              "      <td>77.700000</td>\n",
              "      <td>14</td>\n",
              "      <td>0.000000</td>\n",
              "      <td>100408.000000</td>\n",
              "      <td>41500.000000</td>\n",
              "      <td>0</td>\n",
              "      <td>0</td>\n",
              "      <td>1</td>\n",
              "      <td>0</td>\n",
              "      <td>0</td>\n",
              "      <td>0</td>\n",
              "      <td>0</td>\n",
              "      <td>0</td>\n",
              "      <td>1</td>\n",
              "      <td>1</td>\n",
              "      <td>1</td>\n",
              "      <td>7</td>\n",
              "      <td>10.000000</td>\n",
              "    </tr>\n",
              "    <tr>\n",
              "      <th>1</th>\n",
              "      <td>35000</td>\n",
              "      <td>23.990000</td>\n",
              "      <td>160000.000000</td>\n",
              "      <td>12.480000</td>\n",
              "      <td>0</td>\n",
              "      <td>2</td>\n",
              "      <td>15</td>\n",
              "      <td>1</td>\n",
              "      <td>14600</td>\n",
              "      <td>42.200000</td>\n",
              "      <td>36</td>\n",
              "      <td>0.000000</td>\n",
              "      <td>78073.000000</td>\n",
              "      <td>34600.000000</td>\n",
              "      <td>0</td>\n",
              "      <td>0</td>\n",
              "      <td>1</td>\n",
              "      <td>0</td>\n",
              "      <td>0</td>\n",
              "      <td>0</td>\n",
              "      <td>0</td>\n",
              "      <td>1</td>\n",
              "      <td>0</td>\n",
              "      <td>0</td>\n",
              "      <td>5</td>\n",
              "      <td>26</td>\n",
              "      <td>2.000000</td>\n",
              "    </tr>\n",
              "    <tr>\n",
              "      <th>2</th>\n",
              "      <td>10000</td>\n",
              "      <td>12.120000</td>\n",
              "      <td>60000.000000</td>\n",
              "      <td>7.580000</td>\n",
              "      <td>2</td>\n",
              "      <td>0</td>\n",
              "      <td>8</td>\n",
              "      <td>0</td>\n",
              "      <td>39414</td>\n",
              "      <td>49.800000</td>\n",
              "      <td>32</td>\n",
              "      <td>0.000000</td>\n",
              "      <td>82421.000000</td>\n",
              "      <td>23900.000000</td>\n",
              "      <td>0</td>\n",
              "      <td>0</td>\n",
              "      <td>0</td>\n",
              "      <td>0</td>\n",
              "      <td>0</td>\n",
              "      <td>0</td>\n",
              "      <td>1</td>\n",
              "      <td>0</td>\n",
              "      <td>1</td>\n",
              "      <td>0</td>\n",
              "      <td>1</td>\n",
              "      <td>7</td>\n",
              "      <td>5.000000</td>\n",
              "    </tr>\n",
              "    <tr>\n",
              "      <th>3</th>\n",
              "      <td>10000</td>\n",
              "      <td>13.220000</td>\n",
              "      <td>35000.000000</td>\n",
              "      <td>8.090000</td>\n",
              "      <td>0</td>\n",
              "      <td>0</td>\n",
              "      <td>7</td>\n",
              "      <td>0</td>\n",
              "      <td>8907</td>\n",
              "      <td>61.900000</td>\n",
              "      <td>7</td>\n",
              "      <td>0.000000</td>\n",
              "      <td>82421.000000</td>\n",
              "      <td>23900.000000</td>\n",
              "      <td>0</td>\n",
              "      <td>0</td>\n",
              "      <td>0</td>\n",
              "      <td>0</td>\n",
              "      <td>0</td>\n",
              "      <td>0</td>\n",
              "      <td>1</td>\n",
              "      <td>0</td>\n",
              "      <td>0</td>\n",
              "      <td>0</td>\n",
              "      <td>2</td>\n",
              "      <td>11</td>\n",
              "      <td>3.000000</td>\n",
              "    </tr>\n",
              "    <tr>\n",
              "      <th>4</th>\n",
              "      <td>35000</td>\n",
              "      <td>23.400000</td>\n",
              "      <td>100000.000000</td>\n",
              "      <td>31.690000</td>\n",
              "      <td>2</td>\n",
              "      <td>0</td>\n",
              "      <td>10</td>\n",
              "      <td>0</td>\n",
              "      <td>31528</td>\n",
              "      <td>82.700000</td>\n",
              "      <td>31</td>\n",
              "      <td>0.000000</td>\n",
              "      <td>74319.000000</td>\n",
              "      <td>61200.000000</td>\n",
              "      <td>0</td>\n",
              "      <td>1</td>\n",
              "      <td>0</td>\n",
              "      <td>0</td>\n",
              "      <td>0</td>\n",
              "      <td>0</td>\n",
              "      <td>1</td>\n",
              "      <td>0</td>\n",
              "      <td>1</td>\n",
              "      <td>0</td>\n",
              "      <td>4</td>\n",
              "      <td>24</td>\n",
              "      <td>10.000000</td>\n",
              "    </tr>\n",
              "  </tbody>\n",
              "</table>\n",
              "</div>"
            ],
            "text/plain": [
              "   loan_amnt  int_rate    annual_inc       dti  delinq_2yrs  inq_last_6mths  \\\n",
              "0      17325 12.120000  40000.000000 31.410000            0               0   \n",
              "1      35000 23.990000 160000.000000 12.480000            0               2   \n",
              "2      10000 12.120000  60000.000000  7.580000            2               0   \n",
              "3      10000 13.220000  35000.000000  8.090000            0               0   \n",
              "4      35000 23.400000 100000.000000 31.690000            2               0   \n",
              "\n",
              "   open_acc  pub_rec  revol_bal  revol_util  total_acc  tot_coll_amt  \\\n",
              "0        10        0      32236   77.700000         14      0.000000   \n",
              "1        15        1      14600   42.200000         36      0.000000   \n",
              "2         8        0      39414   49.800000         32      0.000000   \n",
              "3         7        0       8907   61.900000          7      0.000000   \n",
              "4        10        0      31528   82.700000         31      0.000000   \n",
              "\n",
              "    tot_cur_bal  total_rev_hi_lim  default_ind  term_ 60 months  \\\n",
              "0 100408.000000      41500.000000            0                0   \n",
              "1  78073.000000      34600.000000            0                0   \n",
              "2  82421.000000      23900.000000            0                0   \n",
              "3  82421.000000      23900.000000            0                0   \n",
              "4  74319.000000      61200.000000            0                1   \n",
              "\n",
              "   home_ownership_MORTGAGE  home_ownership_NONE  home_ownership_OTHER  \\\n",
              "0                        1                    0                     0   \n",
              "1                        1                    0                     0   \n",
              "2                        0                    0                     0   \n",
              "3                        0                    0                     0   \n",
              "4                        0                    0                     0   \n",
              "\n",
              "   home_ownership_OWN  home_ownership_RENT  \\\n",
              "0                   0                    0   \n",
              "1                   0                    0   \n",
              "2                   0                    1   \n",
              "3                   0                    1   \n",
              "4                   0                    1   \n",
              "\n",
              "   verification_status_Source Verified  verification_status_Verified  \\\n",
              "0                                    0                             1   \n",
              "1                                    1                             0   \n",
              "2                                    0                             1   \n",
              "3                                    0                             0   \n",
              "4                                    0                             1   \n",
              "\n",
              "   initial_list_status_w  grade  sub_grade  emp_length  \n",
              "0                      1      1          7   10.000000  \n",
              "1                      0      5         26    2.000000  \n",
              "2                      0      1          7    5.000000  \n",
              "3                      0      2         11    3.000000  \n",
              "4                      0      4         24   10.000000  "
            ]
          },
          "metadata": {},
          "execution_count": 7
        }
      ]
    },
    {
      "cell_type": "markdown",
      "metadata": {
        "id": "LSoHLSJ-mlsf"
      },
      "source": [
        "# Data Info"
      ]
    },
    {
      "cell_type": "code",
      "metadata": {
        "colab": {
          "base_uri": "https://localhost:8080/"
        },
        "id": "6uQPlW0TxZse",
        "outputId": "072daf6e-1570-4431-cc6f-8f80d6bdba19"
      },
      "source": [
        "train.isnull().sum().sum()"
      ],
      "execution_count": null,
      "outputs": [
        {
          "output_type": "execute_result",
          "data": {
            "text/plain": [
              "0"
            ]
          },
          "metadata": {},
          "execution_count": 8
        }
      ]
    },
    {
      "cell_type": "code",
      "metadata": {
        "id": "TQ--Z1pWxjY6"
      },
      "source": [
        "X_train=train.drop('default_ind',axis=1)\n",
        "\n",
        "y_train=train['default_ind']"
      ],
      "execution_count": null,
      "outputs": []
    },
    {
      "cell_type": "code",
      "metadata": {
        "colab": {
          "base_uri": "https://localhost:8080/"
        },
        "id": "C0nEV6xkxnSz",
        "outputId": "9cda87de-cda4-4162-dde4-50fb23c8e7c3"
      },
      "source": [
        "X_train.shape,y_train.shape"
      ],
      "execution_count": null,
      "outputs": [
        {
          "output_type": "execute_result",
          "data": {
            "text/plain": [
              "((558814, 26), (558814,))"
            ]
          },
          "metadata": {},
          "execution_count": 10
        }
      ]
    },
    {
      "cell_type": "code",
      "metadata": {
        "colab": {
          "base_uri": "https://localhost:8080/"
        },
        "id": "IXZ0vJyCxqfl",
        "outputId": "c4dc5fd7-04ca-4eca-cc97-40837642f9d6"
      },
      "source": [
        "X_train.columns,len(X_train.columns)"
      ],
      "execution_count": null,
      "outputs": [
        {
          "output_type": "execute_result",
          "data": {
            "text/plain": [
              "(Index(['loan_amnt', 'int_rate', 'annual_inc', 'dti', 'delinq_2yrs',\n",
              "        'inq_last_6mths', 'open_acc', 'pub_rec', 'revol_bal', 'revol_util',\n",
              "        'total_acc', 'tot_coll_amt', 'tot_cur_bal', 'total_rev_hi_lim',\n",
              "        'term_ 60 months', 'home_ownership_MORTGAGE', 'home_ownership_NONE',\n",
              "        'home_ownership_OTHER', 'home_ownership_OWN', 'home_ownership_RENT',\n",
              "        'verification_status_Source Verified', 'verification_status_Verified',\n",
              "        'initial_list_status_w', 'grade', 'sub_grade', 'emp_length'],\n",
              "       dtype='object'), 26)"
            ]
          },
          "metadata": {},
          "execution_count": 11
        }
      ]
    },
    {
      "cell_type": "markdown",
      "metadata": {
        "id": "UILO0fEumENs"
      },
      "source": [
        "# **RECURSIVE FEATURE ELIMINATION**"
      ]
    },
    {
      "cell_type": "code",
      "metadata": {
        "colab": {
          "base_uri": "https://localhost:8080/"
        },
        "id": "Gl4g_nn2xwUH",
        "outputId": "7d69ae75-f2a9-4453-e17d-15a40345cdce"
      },
      "source": [
        "# get a list of models to evaluate\n",
        "def get_models():\n",
        "    models = dict()\n",
        "    for i in range(2, 27):\n",
        "        rfe = RFE(estimator=RandomForestClassifier(criterion='entropy',random_state = 10,class_weight='balanced',max_depth=8), n_features_to_select=i)\n",
        "        model = RandomForestClassifier(criterion='entropy',random_state = 10,class_weight='balanced',max_depth=8)\n",
        "        models[str(i)] = Pipeline(steps=[('s',rfe),('m',model)])\n",
        "    return models\n",
        " \n",
        "# evaluate a give model using cross-validation\n",
        "def evaluate_model(model,X,y):\n",
        "    cv = KFold(n_splits=3,shuffle=True,random_state=10)\n",
        "    scores = cross_val_score(model,X,y,scoring='recall', cv=cv, n_jobs=-1, error_score='raise')\n",
        "    return scores\n",
        " \n",
        "\n",
        "# get the models to evaluate\n",
        "models = get_models()\n",
        "\n",
        "# evaluate the models and store results\n",
        "results, names = list(), list()\n",
        "for name, model in models.items():\n",
        "    scores = evaluate_model(model, X_train, y_train)\n",
        "    results.append(scores)\n",
        "    names.append(name)\n",
        "    print('>%s %.3f (%.3f)' % (name, np.mean(scores), np.std(scores,ddof=1)))\n",
        "\n",
        "# plot model performance for comparison\n",
        "plt.boxplot(results, labels=names, showmeans=True)\n",
        "plt.show()"
      ],
      "execution_count": null,
      "outputs": [
        {
          "output_type": "stream",
          "name": "stdout",
          "text": [
            ">2 0.797 (0.023)\n",
            ">3 0.793 (0.010)\n",
            ">4 0.770 (0.007)\n",
            ">5 0.753 (0.020)\n",
            ">6 0.754 (0.005)\n",
            ">7 0.749 (0.010)\n",
            ">8 0.745 (0.008)\n",
            ">9 0.749 (0.008)\n",
            ">10 0.742 (0.003)\n",
            ">11 0.741 (0.008)\n",
            ">12 0.740 (0.003)\n",
            ">13 0.741 (0.010)\n",
            ">14 0.740 (0.004)\n",
            ">15 0.735 (0.011)\n",
            ">16 0.743 (0.007)\n",
            ">17 0.740 (0.008)\n"
          ]
        }
      ]
    },
    {
      "cell_type": "code",
      "metadata": {
        "colab": {
          "base_uri": "https://localhost:8080/"
        },
        "id": "dNj1zajwibTC",
        "outputId": "acc426d3-8082-4ba5-c698-474062768376"
      },
      "source": [
        "rfe = RFE(estimator=DecisionTreeClassifier(random_state = 10,class_weight='balanced'), n_features_to_select=9)\n",
        "# fit RFE\n",
        "rfe.fit(X_train, y_train)\n",
        "# summarize all features\n",
        "for i in range(X_train.shape[1]):\n",
        "\tprint('Column: %d, Selected %s, Rank: %.3f' % (i, rfe.support_[i], rfe.ranking_[i]))\n"
      ],
      "execution_count": null,
      "outputs": [
        {
          "output_type": "stream",
          "name": "stdout",
          "text": [
            "Column: 0, Selected True, Rank: 1.000\n",
            "Column: 1, Selected True, Rank: 1.000\n",
            "Column: 2, Selected True, Rank: 1.000\n",
            "Column: 3, Selected True, Rank: 1.000\n",
            "Column: 4, Selected False, Rank: 8.000\n",
            "Column: 5, Selected False, Rank: 6.000\n",
            "Column: 6, Selected False, Rank: 3.000\n",
            "Column: 7, Selected False, Rank: 9.000\n",
            "Column: 8, Selected True, Rank: 1.000\n",
            "Column: 9, Selected True, Rank: 1.000\n",
            "Column: 10, Selected True, Rank: 1.000\n",
            "Column: 11, Selected False, Rank: 7.000\n",
            "Column: 12, Selected True, Rank: 1.000\n",
            "Column: 13, Selected True, Rank: 1.000\n",
            "Column: 14, Selected False, Rank: 15.000\n",
            "Column: 15, Selected False, Rank: 12.000\n",
            "Column: 16, Selected False, Rank: 18.000\n",
            "Column: 17, Selected False, Rank: 17.000\n",
            "Column: 18, Selected False, Rank: 13.000\n",
            "Column: 19, Selected False, Rank: 16.000\n",
            "Column: 20, Selected False, Rank: 10.000\n",
            "Column: 21, Selected False, Rank: 11.000\n",
            "Column: 22, Selected False, Rank: 4.000\n",
            "Column: 23, Selected False, Rank: 14.000\n",
            "Column: 24, Selected False, Rank: 2.000\n",
            "Column: 25, Selected False, Rank: 5.000\n"
          ]
        }
      ]
    },
    {
      "cell_type": "code",
      "metadata": {
        "colab": {
          "base_uri": "https://localhost:8080/"
        },
        "id": "jr0Fm088lXYu",
        "outputId": "2cf6f078-684d-40fb-b40b-ed888e016379"
      },
      "source": [
        "\n",
        "rfe_model = RFE(estimator=DecisionTreeClassifier(random_state = 10,class_weight='balanced'), n_features_to_select =9)\n",
        "\n",
        "# fit the RFE model on the training dataset using fit()\n",
        "rfe_model = rfe_model.fit(X_train, y_train)\n",
        "\n",
        "# create a series containing feature and its corresponding rank obtained from RFE\n",
        "# 'ranking_' returns the rank of each variable after applying RFE\n",
        "# pass the ranks as the 'data' of a series\n",
        "# 'index' assigns feature names as index of a series \n",
        "feat_index = pd.Series(data = rfe_model.ranking_, index = X_train.columns)\n",
        "\n",
        "# select the features with rank = 1\n",
        "# 'index' returns the indices of a series (i.e. features with rank=1) \n",
        "signi_feat_rfe = feat_index[feat_index==1].index\n",
        "\n",
        "# print the significant features obtained from RFE\n",
        "print(signi_feat_rfe)"
      ],
      "execution_count": null,
      "outputs": [
        {
          "output_type": "stream",
          "name": "stdout",
          "text": [
            "Index(['loan_amnt', 'int_rate', 'annual_inc', 'dti', 'revol_bal', 'revol_util',\n",
            "       'total_acc', 'tot_cur_bal', 'total_rev_hi_lim'],\n",
            "      dtype='object')\n"
          ]
        }
      ]
    },
    {
      "cell_type": "code",
      "metadata": {
        "colab": {
          "base_uri": "https://localhost:8080/"
        },
        "id": "LYcgDIynnnHi",
        "outputId": "a4db8390-ab1e-4554-b4de-3c3c93899919"
      },
      "source": [
        "X_train.columns"
      ],
      "execution_count": null,
      "outputs": [
        {
          "output_type": "execute_result",
          "data": {
            "text/plain": [
              "Index(['loan_amnt', 'int_rate', 'annual_inc', 'dti', 'delinq_2yrs',\n",
              "       'inq_last_6mths', 'open_acc', 'pub_rec', 'revol_bal', 'revol_util',\n",
              "       'total_acc', 'tot_coll_amt', 'tot_cur_bal', 'total_rev_hi_lim',\n",
              "       'term_ 60 months', 'home_ownership_MORTGAGE', 'home_ownership_NONE',\n",
              "       'home_ownership_OTHER', 'home_ownership_OWN', 'home_ownership_RENT',\n",
              "       'verification_status_Source Verified', 'verification_status_Verified',\n",
              "       'initial_list_status_w', 'grade', 'sub_grade', 'emp_length'],\n",
              "      dtype='object')"
            ]
          },
          "metadata": {},
          "execution_count": 15
        }
      ]
    },
    {
      "cell_type": "markdown",
      "metadata": {
        "id": "576qrqeDjPck"
      },
      "source": [
        "# **SEQUENTIAL FEATURE SELECTION**"
      ]
    },
    {
      "cell_type": "markdown",
      "metadata": {
        "id": "XVn5Nm00i5V9"
      },
      "source": [
        "## **SFS- Forward (Decision Tree)**"
      ]
    },
    {
      "cell_type": "code",
      "metadata": {
        "colab": {
          "base_uri": "https://localhost:8080/"
        },
        "id": "7RtOFiFEAhAw",
        "outputId": "e7a2eaac-99a2-4fb1-a37b-c4afe4fe3e8d"
      },
      "source": [
        "from mlxtend.feature_selection import SequentialFeatureSelector as sfs\n",
        "# ada = AdaBoostClassifier()\n",
        "from sklearn.ensemble import RandomForestClassifier\n",
        "rf = RandomForestClassifier()\n",
        "from sklearn import tree\n",
        "dt= tree.DecisionTreeClassifier()\n",
        "    \n",
        "dt_forward = sfs(estimator=dt, k_features = 'best', forward=True,\n",
        "                     verbose=2, scoring='f1_weighted')\n",
        "\n",
        "sfs_forward = dt_forward.fit(X_train_rf, y_train_rf)"
      ],
      "execution_count": null,
      "outputs": [
        {
          "output_type": "stream",
          "name": "stderr",
          "text": [
            "[Parallel(n_jobs=1)]: Using backend SequentialBackend with 1 concurrent workers.\n",
            "[Parallel(n_jobs=1)]: Done   1 out of   1 | elapsed:   13.8s remaining:    0.0s\n",
            "[Parallel(n_jobs=1)]: Done  27 out of  27 | elapsed:  1.6min finished\n",
            "\n",
            "[2021-09-16 15:07:06] Features: 1/27 -- score: 0.9193025491040938[Parallel(n_jobs=1)]: Using backend SequentialBackend with 1 concurrent workers.\n",
            "[Parallel(n_jobs=1)]: Done   1 out of   1 | elapsed:   10.2s remaining:    0.0s\n",
            "[Parallel(n_jobs=1)]: Done  26 out of  26 | elapsed:  1.7min finished\n",
            "\n",
            "[2021-09-16 15:08:50] Features: 2/27 -- score: 0.9196950037692095[Parallel(n_jobs=1)]: Using backend SequentialBackend with 1 concurrent workers.\n",
            "[Parallel(n_jobs=1)]: Done   1 out of   1 | elapsed:   11.8s remaining:    0.0s\n",
            "[Parallel(n_jobs=1)]: Done  25 out of  25 | elapsed:  2.3min finished\n",
            "\n",
            "[2021-09-16 15:11:10] Features: 3/27 -- score: 0.9198062716657243[Parallel(n_jobs=1)]: Using backend SequentialBackend with 1 concurrent workers.\n",
            "[Parallel(n_jobs=1)]: Done   1 out of   1 | elapsed:   12.0s remaining:    0.0s\n",
            "[Parallel(n_jobs=1)]: Done  24 out of  24 | elapsed:  2.4min finished\n",
            "\n",
            "[2021-09-16 15:13:35] Features: 4/27 -- score: 0.9199273194762208[Parallel(n_jobs=1)]: Using backend SequentialBackend with 1 concurrent workers.\n",
            "[Parallel(n_jobs=1)]: Done   1 out of   1 | elapsed:   12.9s remaining:    0.0s\n",
            "[Parallel(n_jobs=1)]: Done  23 out of  23 | elapsed:  2.7min finished\n",
            "\n",
            "[2021-09-16 15:16:17] Features: 5/27 -- score: 0.9199206266185126[Parallel(n_jobs=1)]: Using backend SequentialBackend with 1 concurrent workers.\n",
            "[Parallel(n_jobs=1)]: Done   1 out of   1 | elapsed:   13.6s remaining:    0.0s\n",
            "[Parallel(n_jobs=1)]: Done  22 out of  22 | elapsed:  2.8min finished\n",
            "\n",
            "[2021-09-16 15:19:07] Features: 6/27 -- score: 0.9199021223231124[Parallel(n_jobs=1)]: Using backend SequentialBackend with 1 concurrent workers.\n",
            "[Parallel(n_jobs=1)]: Done   1 out of   1 | elapsed:   13.8s remaining:    0.0s\n",
            "[Parallel(n_jobs=1)]: Done  21 out of  21 | elapsed:  2.7min finished\n",
            "\n",
            "[2021-09-16 15:21:50] Features: 7/27 -- score: 0.9199237303932994[Parallel(n_jobs=1)]: Using backend SequentialBackend with 1 concurrent workers.\n",
            "[Parallel(n_jobs=1)]: Done   1 out of   1 | elapsed:   13.6s remaining:    0.0s\n",
            "[Parallel(n_jobs=1)]: Done  20 out of  20 | elapsed:  2.6min finished\n",
            "\n",
            "[2021-09-16 15:24:26] Features: 8/27 -- score: 0.9198113092170862[Parallel(n_jobs=1)]: Using backend SequentialBackend with 1 concurrent workers.\n",
            "[Parallel(n_jobs=1)]: Done   1 out of   1 | elapsed:   13.8s remaining:    0.0s\n",
            "[Parallel(n_jobs=1)]: Done  19 out of  19 | elapsed:  2.8min finished\n",
            "\n",
            "[2021-09-16 15:27:11] Features: 9/27 -- score: 0.9196441072372641[Parallel(n_jobs=1)]: Using backend SequentialBackend with 1 concurrent workers.\n",
            "[Parallel(n_jobs=1)]: Done   1 out of   1 | elapsed:   14.5s remaining:    0.0s\n",
            "[Parallel(n_jobs=1)]: Done  18 out of  18 | elapsed:  2.8min finished\n",
            "\n",
            "[2021-09-16 15:29:57] Features: 10/27 -- score: 0.9193819537349462[Parallel(n_jobs=1)]: Using backend SequentialBackend with 1 concurrent workers.\n",
            "[Parallel(n_jobs=1)]: Done   1 out of   1 | elapsed:   15.2s remaining:    0.0s\n",
            "[Parallel(n_jobs=1)]: Done  17 out of  17 | elapsed:  2.7min finished\n",
            "\n",
            "[2021-09-16 15:32:42] Features: 11/27 -- score: 0.9188675329479065[Parallel(n_jobs=1)]: Using backend SequentialBackend with 1 concurrent workers.\n",
            "[Parallel(n_jobs=1)]: Done   1 out of   1 | elapsed:   15.4s remaining:    0.0s\n",
            "[Parallel(n_jobs=1)]: Done  16 out of  16 | elapsed:  2.9min finished\n",
            "\n",
            "[2021-09-16 15:35:36] Features: 12/27 -- score: 0.9187573362587985[Parallel(n_jobs=1)]: Using backend SequentialBackend with 1 concurrent workers.\n",
            "[Parallel(n_jobs=1)]: Done   1 out of   1 | elapsed:   16.4s remaining:    0.0s\n",
            "[Parallel(n_jobs=1)]: Done  15 out of  15 | elapsed:  2.8min finished\n",
            "\n",
            "[2021-09-16 15:38:23] Features: 13/27 -- score: 0.9177274979685958[Parallel(n_jobs=1)]: Using backend SequentialBackend with 1 concurrent workers.\n",
            "[Parallel(n_jobs=1)]: Done   1 out of   1 | elapsed:   16.4s remaining:    0.0s\n",
            "[Parallel(n_jobs=1)]: Done  14 out of  14 | elapsed:  2.8min finished\n",
            "\n",
            "[2021-09-16 15:41:10] Features: 14/27 -- score: 0.9163207922793803[Parallel(n_jobs=1)]: Using backend SequentialBackend with 1 concurrent workers.\n",
            "[Parallel(n_jobs=1)]: Done   1 out of   1 | elapsed:   16.6s remaining:    0.0s\n",
            "[Parallel(n_jobs=1)]: Done  13 out of  13 | elapsed:  2.7min finished\n",
            "\n",
            "[2021-09-16 15:43:51] Features: 15/27 -- score: 0.9148367886163525[Parallel(n_jobs=1)]: Using backend SequentialBackend with 1 concurrent workers.\n",
            "[Parallel(n_jobs=1)]: Done   1 out of   1 | elapsed:   17.6s remaining:    0.0s\n",
            "[Parallel(n_jobs=1)]: Done  12 out of  12 | elapsed:  2.7min finished\n",
            "\n",
            "[2021-09-16 15:46:34] Features: 16/27 -- score: 0.9125288337530677[Parallel(n_jobs=1)]: Using backend SequentialBackend with 1 concurrent workers.\n",
            "[Parallel(n_jobs=1)]: Done   1 out of   1 | elapsed:   19.0s remaining:    0.0s\n",
            "[Parallel(n_jobs=1)]: Done  11 out of  11 | elapsed:  2.8min finished\n",
            "\n",
            "[2021-09-16 15:49:20] Features: 17/27 -- score: 0.9086310800496349[Parallel(n_jobs=1)]: Using backend SequentialBackend with 1 concurrent workers.\n",
            "[Parallel(n_jobs=1)]: Done   1 out of   1 | elapsed:   19.8s remaining:    0.0s\n",
            "[Parallel(n_jobs=1)]: Done  10 out of  10 | elapsed:  2.8min finished\n",
            "\n",
            "[2021-09-16 15:52:06] Features: 18/27 -- score: 0.9028892095019427[Parallel(n_jobs=1)]: Using backend SequentialBackend with 1 concurrent workers.\n",
            "[Parallel(n_jobs=1)]: Done   1 out of   1 | elapsed:   21.1s remaining:    0.0s\n",
            "[Parallel(n_jobs=1)]: Done   9 out of   9 | elapsed:  2.7min finished\n",
            "\n",
            "[2021-09-16 15:54:49] Features: 19/27 -- score: 0.9017450693763779[Parallel(n_jobs=1)]: Using backend SequentialBackend with 1 concurrent workers.\n",
            "[Parallel(n_jobs=1)]: Done   1 out of   1 | elapsed:   23.5s remaining:    0.0s\n",
            "[Parallel(n_jobs=1)]: Done   8 out of   8 | elapsed:  3.4min finished\n",
            "\n",
            "[2021-09-16 15:58:10] Features: 20/27 -- score: 0.9021937406697151[Parallel(n_jobs=1)]: Using backend SequentialBackend with 1 concurrent workers.\n",
            "[Parallel(n_jobs=1)]: Done   1 out of   1 | elapsed:   27.2s remaining:    0.0s\n",
            "[Parallel(n_jobs=1)]: Done   7 out of   7 | elapsed:  3.4min finished\n",
            "\n",
            "[2021-09-16 16:01:33] Features: 21/27 -- score: 0.902888276630547[Parallel(n_jobs=1)]: Using backend SequentialBackend with 1 concurrent workers.\n",
            "[Parallel(n_jobs=1)]: Done   1 out of   1 | elapsed:   30.8s remaining:    0.0s\n",
            "[Parallel(n_jobs=1)]: Done   6 out of   6 | elapsed:  3.2min finished\n",
            "\n",
            "[2021-09-16 16:04:46] Features: 22/27 -- score: 0.9030003784720042[Parallel(n_jobs=1)]: Using backend SequentialBackend with 1 concurrent workers.\n",
            "[Parallel(n_jobs=1)]: Done   1 out of   1 | elapsed:   34.1s remaining:    0.0s\n",
            "[Parallel(n_jobs=1)]: Done   5 out of   5 | elapsed:  3.0min finished\n",
            "\n",
            "[2021-09-16 16:07:48] Features: 23/27 -- score: 0.9030663860160966[Parallel(n_jobs=1)]: Using backend SequentialBackend with 1 concurrent workers.\n",
            "[Parallel(n_jobs=1)]: Done   1 out of   1 | elapsed:   41.2s remaining:    0.0s\n",
            "[Parallel(n_jobs=1)]: Done   4 out of   4 | elapsed:  2.7min finished\n",
            "\n",
            "[2021-09-16 16:10:29] Features: 24/27 -- score: 0.9031285794997208[Parallel(n_jobs=1)]: Using backend SequentialBackend with 1 concurrent workers.\n",
            "[Parallel(n_jobs=1)]: Done   1 out of   1 | elapsed:   47.6s remaining:    0.0s\n",
            "[Parallel(n_jobs=1)]: Done   3 out of   3 | elapsed:  2.3min finished\n",
            "\n",
            "[2021-09-16 16:12:50] Features: 25/27 -- score: 0.9033947003849967[Parallel(n_jobs=1)]: Using backend SequentialBackend with 1 concurrent workers.\n",
            "[Parallel(n_jobs=1)]: Done   1 out of   1 | elapsed:   54.0s remaining:    0.0s\n",
            "[Parallel(n_jobs=1)]: Done   2 out of   2 | elapsed:  1.7min finished\n",
            "\n",
            "[2021-09-16 16:14:34] Features: 26/27 -- score: 0.9030759880590512[Parallel(n_jobs=1)]: Using backend SequentialBackend with 1 concurrent workers.\n",
            "[Parallel(n_jobs=1)]: Done   1 out of   1 | elapsed:   56.9s remaining:    0.0s\n",
            "[Parallel(n_jobs=1)]: Done   1 out of   1 | elapsed:   56.9s finished\n",
            "\n",
            "[2021-09-16 16:15:31] Features: 27/27 -- score: 0.9032134368869542"
          ]
        }
      ]
    },
    {
      "cell_type": "code",
      "metadata": {
        "colab": {
          "base_uri": "https://localhost:8080/"
        },
        "id": "XeBxliLDJ4IN",
        "outputId": "4c49a07c-5aa6-47d3-9ec5-74037ea28c8d"
      },
      "source": [
        "# print the selected feature names when k_features = 'best'\n",
        "print('Features selelected using forward selection are: ')\n",
        "print(dt_forward.k_feature_names_)\n",
        "\n",
        "# print the R-squared value\n",
        "print('\\nScore: ', dt_forward.k_score_)"
      ],
      "execution_count": null,
      "outputs": [
        {
          "output_type": "stream",
          "name": "stdout",
          "text": [
            "Features selelected using forward selection are: \n",
            "('int_rate', 'open_acc', 'verification_status_Verified', 'sub_grade')\n",
            "\n",
            "Score:  0.9199273194762208\n"
          ]
        }
      ]
    },
    {
      "cell_type": "markdown",
      "metadata": {
        "id": "QOW-iCZ-ig4j"
      },
      "source": [
        "## **SFS- Backward (Decision Tree)**"
      ]
    },
    {
      "cell_type": "code",
      "metadata": {
        "colab": {
          "base_uri": "https://localhost:8080/"
        },
        "id": "L-rT0nw5vxHI",
        "outputId": "c7d7d248-70a1-450e-92d2-636de95ce7a3"
      },
      "source": [
        "from mlxtend.feature_selection import SequentialFeatureSelector as sfs\n",
        "# ada = AdaBoostClassifier()\n",
        "from sklearn.ensemble import RandomForestClassifier\n",
        "rf = RandomForestClassifier()\n",
        "from sklearn import tree\n",
        "dt= tree.DecisionTreeClassifier()\n",
        "    \n",
        "rf_backward = sfs(estimator=dt, k_features = 10, forward= True,\n",
        "                     verbose=3, scoring='f1_weighted')\n",
        "\n",
        "sfs_backward = rf_backward.fit(X_train_rf, y_train_rf)"
      ],
      "execution_count": null,
      "outputs": [
        {
          "output_type": "stream",
          "name": "stderr",
          "text": [
            "[Parallel(n_jobs=1)]: Using backend SequentialBackend with 1 concurrent workers.\n",
            "[Parallel(n_jobs=1)]: Done   1 out of   1 | elapsed:   12.9s remaining:    0.0s\n",
            "[Parallel(n_jobs=1)]: Done   2 out of   2 | elapsed:   16.9s remaining:    0.0s\n",
            "[Parallel(n_jobs=1)]: Done  27 out of  27 | elapsed:  1.5min finished\n",
            "\n",
            "[2021-09-20 15:13:49] Features: 1/10 -- score: 0.9193025491040938[Parallel(n_jobs=1)]: Using backend SequentialBackend with 1 concurrent workers.\n",
            "[Parallel(n_jobs=1)]: Done   1 out of   1 | elapsed:    9.7s remaining:    0.0s\n",
            "[Parallel(n_jobs=1)]: Done   2 out of   2 | elapsed:   14.2s remaining:    0.0s\n",
            "[Parallel(n_jobs=1)]: Done  26 out of  26 | elapsed:  1.6min finished\n",
            "\n",
            "[2021-09-20 15:15:23] Features: 2/10 -- score: 0.9196950004535104[Parallel(n_jobs=1)]: Using backend SequentialBackend with 1 concurrent workers.\n",
            "[Parallel(n_jobs=1)]: Done   1 out of   1 | elapsed:   11.2s remaining:    0.0s\n",
            "[Parallel(n_jobs=1)]: Done   2 out of   2 | elapsed:   17.8s remaining:    0.0s\n",
            "[Parallel(n_jobs=1)]: Done  25 out of  25 | elapsed:  2.1min finished\n",
            "\n",
            "[2021-09-20 15:17:31] Features: 3/10 -- score: 0.9198216378113061[Parallel(n_jobs=1)]: Using backend SequentialBackend with 1 concurrent workers.\n",
            "[Parallel(n_jobs=1)]: Done   1 out of   1 | elapsed:   11.2s remaining:    0.0s\n",
            "[Parallel(n_jobs=1)]: Done   2 out of   2 | elapsed:   18.1s remaining:    0.0s\n",
            "[Parallel(n_jobs=1)]: Done  24 out of  24 | elapsed:  2.3min finished\n",
            "\n",
            "[2021-09-20 15:19:47] Features: 4/10 -- score: 0.91989982355913[Parallel(n_jobs=1)]: Using backend SequentialBackend with 1 concurrent workers.\n",
            "[Parallel(n_jobs=1)]: Done   1 out of   1 | elapsed:   12.4s remaining:    0.0s\n",
            "[Parallel(n_jobs=1)]: Done   2 out of   2 | elapsed:   20.3s remaining:    0.0s\n",
            "[Parallel(n_jobs=1)]: Done  23 out of  23 | elapsed:  2.6min finished\n",
            "\n",
            "[2021-09-20 15:22:23] Features: 5/10 -- score: 0.9199261667420873[Parallel(n_jobs=1)]: Using backend SequentialBackend with 1 concurrent workers.\n",
            "[Parallel(n_jobs=1)]: Done   1 out of   1 | elapsed:   12.4s remaining:    0.0s\n",
            "[Parallel(n_jobs=1)]: Done   2 out of   2 | elapsed:   20.1s remaining:    0.0s\n",
            "[Parallel(n_jobs=1)]: Done  22 out of  22 | elapsed:  2.5min finished\n",
            "\n",
            "[2021-09-20 15:24:50] Features: 6/10 -- score: 0.9199213465196658[Parallel(n_jobs=1)]: Using backend SequentialBackend with 1 concurrent workers.\n",
            "[Parallel(n_jobs=1)]: Done   1 out of   1 | elapsed:   12.8s remaining:    0.0s\n",
            "[Parallel(n_jobs=1)]: Done   2 out of   2 | elapsed:   20.9s remaining:    0.0s\n",
            "[Parallel(n_jobs=1)]: Done  21 out of  21 | elapsed:  2.4min finished\n",
            "\n",
            "[2021-09-20 15:27:15] Features: 7/10 -- score: 0.9198895793162836[Parallel(n_jobs=1)]: Using backend SequentialBackend with 1 concurrent workers.\n",
            "[Parallel(n_jobs=1)]: Done   1 out of   1 | elapsed:   12.3s remaining:    0.0s\n",
            "[Parallel(n_jobs=1)]: Done   2 out of   2 | elapsed:   20.1s remaining:    0.0s\n",
            "[Parallel(n_jobs=1)]: Done  20 out of  20 | elapsed:  2.4min finished\n",
            "\n",
            "[2021-09-20 15:29:38] Features: 8/10 -- score: 0.9198241064617863[Parallel(n_jobs=1)]: Using backend SequentialBackend with 1 concurrent workers.\n",
            "[Parallel(n_jobs=1)]: Done   1 out of   1 | elapsed:   13.1s remaining:    0.0s\n",
            "[Parallel(n_jobs=1)]: Done   2 out of   2 | elapsed:   22.0s remaining:    0.0s\n",
            "[Parallel(n_jobs=1)]: Done  19 out of  19 | elapsed:  2.5min finished\n",
            "\n",
            "[2021-09-20 15:32:08] Features: 9/10 -- score: 0.9196128214609688[Parallel(n_jobs=1)]: Using backend SequentialBackend with 1 concurrent workers.\n",
            "[Parallel(n_jobs=1)]: Done   1 out of   1 | elapsed:   14.3s remaining:    0.0s\n",
            "[Parallel(n_jobs=1)]: Done   2 out of   2 | elapsed:   24.1s remaining:    0.0s\n",
            "[Parallel(n_jobs=1)]: Done  18 out of  18 | elapsed:  2.7min finished\n",
            "\n",
            "[2021-09-20 15:34:48] Features: 10/10 -- score: 0.9193673417505851"
          ]
        }
      ]
    },
    {
      "cell_type": "code",
      "metadata": {
        "colab": {
          "base_uri": "https://localhost:8080/"
        },
        "id": "l4oRy0aw2YdE",
        "outputId": "ce89f88f-b25f-448d-89d0-6994fa121546"
      },
      "source": [
        "# print the selected feature names when k_features = 'best'\n",
        "print('Features selelected using forward selection are: ')\n",
        "print(rf_backward.k_feature_names_)\n",
        "\n",
        "# print the R-squared value\n",
        "print('\\nScore: ', rf_backward.k_score_)"
      ],
      "execution_count": null,
      "outputs": [
        {
          "output_type": "stream",
          "name": "stdout",
          "text": [
            "Features selelected using forward selection are: \n",
            "('int_rate', 'open_acc', 'home_ownership_NONE', 'home_ownership_OTHER', 'home_ownership_OWN', 'verification_status_Source Verified', 'verification_status_Verified', 'initial_list_status_w', 'grade', 'sub_grade')\n",
            "\n",
            "Score:  0.9193673417505851\n"
          ]
        }
      ]
    },
    {
      "cell_type": "markdown",
      "metadata": {
        "id": "SU0dEKoekEA4"
      },
      "source": [
        "## **SFS- Forward (Random Forest)**"
      ]
    },
    {
      "cell_type": "code",
      "metadata": {
        "colab": {
          "base_uri": "https://localhost:8080/"
        },
        "id": "5SPu3GEU5LRU",
        "outputId": "5e749480-a9b0-4d02-815a-0a25f20701ca"
      },
      "source": [
        "from mlxtend.feature_selection import SequentialFeatureSelector as sfs\n",
        "# ada = AdaBoostClassifier()\n",
        "from sklearn.ensemble import RandomForestClassifier\n",
        "rf = RandomForestClassifier()\n",
        "from sklearn import tree\n",
        "dt= tree.DecisionTreeClassifier()\n",
        "    \n",
        "rf_forward = sfs(estimator=rf, k_features = 10, forward= True,\n",
        "                     verbose=3, scoring='f1_weighted')\n",
        "\n",
        "sfs_forward = rf_forward.fit(X_train_rf, y_train_rf)"
      ],
      "execution_count": null,
      "outputs": [
        {
          "output_type": "stream",
          "name": "stderr",
          "text": [
            "[Parallel(n_jobs=1)]: Using backend SequentialBackend with 1 concurrent workers.\n",
            "[Parallel(n_jobs=1)]: Done   1 out of   1 | elapsed: 13.9min remaining:    0.0s\n",
            "[Parallel(n_jobs=1)]: Done   2 out of   2 | elapsed: 18.7min remaining:    0.0s\n",
            "[Parallel(n_jobs=1)]: Done  27 out of  27 | elapsed: 102.4min finished\n",
            "\n",
            "[2021-09-21 09:12:25] Features: 1/10 -- score: 0.9193155609060482[Parallel(n_jobs=1)]: Using backend SequentialBackend with 1 concurrent workers.\n",
            "[Parallel(n_jobs=1)]: Done   1 out of   1 | elapsed:  7.0min remaining:    0.0s\n",
            "[Parallel(n_jobs=1)]: Done   2 out of   2 | elapsed: 11.4min remaining:    0.0s\n",
            "[Parallel(n_jobs=1)]: Done  26 out of  26 | elapsed: 96.4min finished\n",
            "\n",
            "[2021-09-21 10:48:50] Features: 2/10 -- score: 0.9197113264484653[Parallel(n_jobs=1)]: Using backend SequentialBackend with 1 concurrent workers.\n",
            "[Parallel(n_jobs=1)]: Done   1 out of   1 | elapsed:  5.7min remaining:    0.0s\n",
            "[Parallel(n_jobs=1)]: Done   2 out of   2 | elapsed: 10.6min remaining:    0.0s\n",
            "[Parallel(n_jobs=1)]: Done  25 out of  25 | elapsed: 105.9min finished\n",
            "\n",
            "[2021-09-21 12:34:42] Features: 3/10 -- score: 0.9198699241700788[Parallel(n_jobs=1)]: Using backend SequentialBackend with 1 concurrent workers.\n",
            "[Parallel(n_jobs=1)]: Done   1 out of   1 | elapsed:  7.8min remaining:    0.0s\n",
            "[Parallel(n_jobs=1)]: Done   2 out of   2 | elapsed: 13.3min remaining:    0.0s\n"
          ]
        }
      ]
    },
    {
      "cell_type": "code",
      "metadata": {
        "id": "FbYbl7FW5cBI"
      },
      "source": [
        "# print the selected feature names when k_features = 'best'\n",
        "print('Features selelected using forward selection are: ')\n",
        "print(rf_forward.k_feature_names_)\n",
        "\n",
        "# print the R-squared value\n",
        "print('\\nScore: ', rf_forward.k_score_)"
      ],
      "execution_count": null,
      "outputs": []
    }
  ]
}